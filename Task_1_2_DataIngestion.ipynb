{
 "cells": [
  {
   "cell_type": "markdown",
   "metadata": {},
   "source": [
    "**All Tables STRUCTURES**\n",
    "\n",
    "```console\n",
    "Table marketing_spend {\n",
    "  id            int         [pk, increment] // surrogate primary key\n",
    "  date          date\n",
    "  channel       varchar\n",
    "  campaign      varchar\n",
    "  spend         decimal\n",
    "  impressions   int\n",
    "  clicks        int\n",
    "  installs      int\n",
    "}\n",
    "\n",
    "Table users {\n",
    "  user_id       varchar     [pk]\n",
    "  installed_at  timestamp\n",
    "  created_at    timestamp\n",
    "  updated_at    timestamp\n",
    "  channel       varchar\n",
    "  campaign      varchar\n",
    "}\n",
    "\n",
    "Table user_touchpoints {\n",
    "  id              int       [pk, increment]\n",
    "  user_id         varchar   [ref: > users.user_id]\n",
    "  touchpoint_date timestamp\n",
    "  channel         varchar\n",
    "  campaign        varchar\n",
    "  touchpoint_type varchar\n",
    "  source          varchar\n",
    "  medium          varchar\n",
    "  conversion      boolean\n",
    "}\n",
    "\n",
    "Table revenue_and_rewards {\n",
    "  id             int       [pk, increment]\n",
    "  user_id        varchar   [ref: > users.user_id]\n",
    "  date           date\n",
    "  revenue        decimal\n",
    "  reward_to_user decimal\n",
    "}\n",
    "```"
   ]
  },
  {
   "cell_type": "code",
   "execution_count": null,
   "metadata": {
    "vscode": {
     "languageId": "sql"
    }
   },
   "outputs": [],
   "source": [
    "-- In psql, load the marketing_spend data:\n",
    "\\copy marketing_spend(id,date, channel, campaign, spend, impressions, clicks, installs) FROM '/path/to/marketing_spend.csv' DELIMITER ',' CSV HEADER;\n",
    "\n",
    "-- Load the users data:\n",
    "\\copy users(user_id, installed_at, created_at, updated_at, channel, campaign) FROM '/path/to/users.csv' DELIMITER ',' CSV HEADER;\n",
    "\n",
    "-- Load the user_touchpoints data:\n",
    "\\copy user_touchpoints(id,user_id, touchpoint_date, channel, campaign, touchpoint_type, source, medium, conversion) FROM '/path/to/user_touchpoints.csv' DELIMITER ',' CSV HEADER;\n",
    "\n",
    "-- Load the revenue_and_rewards data:\n",
    "\\copy revenue_and_rewards(id,user_id, date, revenue, reward_to_user) FROM '/path/to/revenue_and_rewards.csv' DELIMITER ',' CSV HEADER;\n"
   ]
  },
  {
   "cell_type": "code",
   "execution_count": 15,
   "metadata": {},
   "outputs": [
    {
     "name": "stdout",
     "output_type": "stream",
     "text": [
      "Connection successful!\n",
      "Current Time: (datetime.datetime(2025, 2, 16, 14, 13, 6, 803105, tzinfo=datetime.timezone.utc),)\n",
      "Connection closed.\n"
     ]
    }
   ],
   "source": [
    "import psycopg2\n",
    "\n",
    "# Connection Details\n",
    "SUPABASE_USER = \"postgres.ylhsfopeerhruicwrdsl\"\n",
    "SUPABASE_PASSWORD = \"Alekhya@28\"\n",
    "SUPABASE_HOST = \"aws-0-us-east-1.pooler.supabase.com\"\n",
    "SUPABASE_PORT = \"5432\"\n",
    "SUPABASE_DBNAME = \"postgres\"\n",
    "\n",
    "# Connect to the database\n",
    "try:\n",
    "    connection = psycopg2.connect(\n",
    "        user=SUPABASE_USER,\n",
    "        password=SUPABASE_PASSWORD,\n",
    "        host=SUPABASE_HOST,\n",
    "        port=SUPABASE_PORT,\n",
    "        dbname=SUPABASE_DBNAME\n",
    "    )\n",
    "    print(\"Connection successful!\")\n",
    "    \n",
    "    # Create a cursor to execute SQL queries\n",
    "    cursor = connection.cursor()\n",
    "    \n",
    "    # Select query\n",
    "    cursor.execute(\"SELECT NOW();\")\n",
    "    result = cursor.fetchone()\n",
    "    print(\"Current Time:\", result)\n",
    "\n",
    "    # Close the cursor and connection\n",
    "    cursor.close()\n",
    "    connection.close()\n",
    "    print(\"Connection closed.\")\n",
    "\n",
    "except Exception as e:\n",
    "    print(f\"Failed to connect: {e}\")"
   ]
  },
  {
   "cell_type": "code",
   "execution_count": null,
   "metadata": {},
   "outputs": [],
   "source": [
    "import psycopg2\n",
    "import csv\n",
    "\n",
    "# Connection Details\n",
    "SUPABASE_USER = \"postgres.ylhsfopeerhruicwrdsl\"\n",
    "SUPABASE_PASSWORD = \"Alekhya@28\"\n",
    "SUPABASE_HOST = \"aws-0-us-east-1.pooler.supabase.com\"\n",
    "SUPABASE_PORT = \"5432\"\n",
    "SUPABASE_DBNAME = \"postgres\"\n",
    "\n",
    "connection = psycopg2.connect(\n",
    "        user=SUPABASE_USER,\n",
    "        password=SUPABASE_PASSWORD,\n",
    "        host=SUPABASE_HOST,\n",
    "        port=SUPABASE_PORT,\n",
    "        dbname=SUPABASE_DBNAME\n",
    "    )\n",
    "cursor = connection.cursor()\n",
    "\n",
    "def load_csv_to_table(csv_file, table, columns):\n",
    "    with open(csv_file, 'r', encoding='utf-8') as f:\n",
    "        reader = csv.DictReader(f)\n",
    "        rows = [tuple(row[col] for col in columns) for row in reader]\n",
    "    placeholders = ','.join(['%s'] * len(columns))\n",
    "    query = f\"INSERT INTO {table}({', '.join(columns)}) VALUES ({placeholders})\"\n",
    "    cursor.executemany(query, rows)\n",
    "    connection.commit()\n",
    "\n",
    "# Ingest data into each table\n",
    "load_csv_to_table('marketing_spend.csv', 'marketing_spend', ['date', 'channel', 'campaign', 'spend', 'impressions', 'clicks', 'installs'])\n",
    "load_csv_to_table('users.csv', 'users', ['user_id', 'installed_at', 'created_at', 'updated_at', 'channel', 'campaign'])\n",
    "load_csv_to_table('user_touchpoints.csv', 'user_touchpoints', ['user_id', 'touchpoint_date', 'channel', 'campaign', 'touchpoint_type', 'source', 'medium', 'conversion'])\n",
    "load_csv_to_table('revenue_and_rewards.csv', 'revenue_and_rewards', ['user_id', 'date', 'revenue', 'reward_to_user'])\n",
    "\n",
    "cursor.close()\n",
    "connection.close()\n"
   ]
  }
 ],
 "metadata": {
  "kernelspec": {
   "display_name": "base",
   "language": "python",
   "name": "python3"
  },
  "language_info": {
   "codemirror_mode": {
    "name": "ipython",
    "version": 3
   },
   "file_extension": ".py",
   "mimetype": "text/x-python",
   "name": "python",
   "nbconvert_exporter": "python",
   "pygments_lexer": "ipython3",
   "version": "3.12.3"
  }
 },
 "nbformat": 4,
 "nbformat_minor": 2
}
